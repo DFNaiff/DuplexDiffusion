{
 "cells": [
  {
   "cell_type": "code",
   "execution_count": 1,
   "id": "137576a6",
   "metadata": {},
   "outputs": [],
   "source": [
    "import numpy as np\n",
    "import matplotlib.pyplot as plt"
   ]
  },
  {
   "cell_type": "code",
   "execution_count": 2,
   "id": "ba0f1c23",
   "metadata": {},
   "outputs": [],
   "source": [
    "%matplotlib inline"
   ]
  },
  {
   "cell_type": "code",
   "execution_count": 28,
   "id": "82a247dc",
   "metadata": {},
   "outputs": [],
   "source": [
    "D = 60.0; #um^2/s\n",
    "alpha = 1.4*1e-4; #um^2/s\n",
    "R = 5.0; #um\n",
    "K = 32.51/0.033; #unitless\n",
    "vol_fraction = 0.4; #unitless\n",
    "L = 100; #um\n",
    "cinit = 1.0; #mol/um^3\n",
    "\n",
    "nspace = 21; #Division in space\n",
    "nkernel = 10; #Number of kernel expansions\n",
    "timestep = 0.25; #s\n",
    "decay_limit = 0.1; #Limite of kernel decay\n",
    "maxwindow = 1000;\n",
    "\n",
    "dx = L/(nspace-1)"
   ]
  },
  {
   "cell_type": "code",
   "execution_count": 32,
   "id": "bee39def",
   "metadata": {},
   "outputs": [],
   "source": [
    "data_sphere = np.loadtxt(\"../data/result_large_convolution\")\n",
    "data_cylinder = np.loadtxt(\"../data/result_large_convolution_cylinder\")\n",
    "data_clean = np.loadtxt(\"../data/result_clean_test\")"
   ]
  },
  {
   "cell_type": "code",
   "execution_count": 33,
   "id": "f8df2dd1",
   "metadata": {},
   "outputs": [],
   "source": [
    "def make_time_space(res, timestep):\n",
    "    t, c = res[:, 0], res[:, 1:]\n",
    "    x = np.linspace(0, L, res.shape[1]-1);\n",
    "    return t, x, c\n",
    "t_sphere, x_sphere, c_sphere = make_time_space(data_sphere, timestep);\n",
    "t_cylinder, x_cylinder, c_cylinder = make_time_space(data_cylinder, timestep);\n",
    "t_clean, x_clean, c_clean = make_time_space(data_clean, timestep);"
   ]
  },
  {
   "cell_type": "code",
   "execution_count": 36,
   "id": "bd511d9b",
   "metadata": {},
   "outputs": [
    {
     "data": {
      "text/plain": [
       "Text(0.5, 1.0, 'Flux at outlet')"
      ]
     },
     "execution_count": 36,
     "metadata": {},
     "output_type": "execute_result"
    },
    {
     "data": {
      "image/png": "[encoded data removed]",
      "text/plain": [
       "<Figure size 432x288 with 1 Axes>"
      ]
     },
     "metadata": {
      "needs_background": "light"
     },
     "output_type": "display_data"
    }
   ],
   "source": [
    "iscale = -1\n",
    "plt.plot(t_sphere[:iscale], D*c_sphere[:iscale, -2]/dx, color='blue')\n",
    "plt.ylabel(\"J/c0 [um/s]\")\n",
    "plt.xlabel(\"t [s]\")\n",
    "plt.title(\"Flux at outlet\")\n",
    "#plt.savefig(\"../tex/figs/flux\")"
   ]
  },
  {
   "cell_type": "code",
   "execution_count": 43,
   "id": "19e5e440",
   "metadata": {},
   "outputs": [],
   "source": [
    "%matplotlib qt\n",
    "plt.plot(t_sphere[:iscale], D*c_sphere[:iscale, -2]/dx, 'b-', label='sph')\n",
    "plt.plot(t_cylinder[:iscale], D*c_cylinder[:iscale, -2]/dx, 'g-', label='cyl')\n",
    "plt.plot(t_clean[:iscale], D*c_clean[:iscale, -2]/dx, 'r-', label='no')\n",
    "plt.legend()\n",
    "plt.semilogx()\n",
    "plt.ylabel(\"J/c0 [um/s]\")\n",
    "plt.xlabel(\"t [s]\")\n",
    "plt.title(\"Flux at outlet\")\n",
    "plt.savefig(\"../tex/figs/flux\")"
   ]
  },
  {
   "cell_type": "code",
   "execution_count": 41,
   "id": "0aa088de",
   "metadata": {},
   "outputs": [
    {
     "data": {
      "text/plain": [
       "25000.0"
      ]
     },
     "execution_count": 41,
     "metadata": {},
     "output_type": "execute_result"
    }
   ],
   "source": [
    "t_sphere[-1]"
   ]
  },
  {
   "cell_type": "code",
   "execution_count": 42,
   "id": "0fd39128",
   "metadata": {},
   "outputs": [],
   "source": [
    "for i in [499, 999, 1999, 4999]:\n",
    "    plt.figure()\n",
    "    plt.plot(x_sphere, c_sphere[i, :], color='blue', label='sph')\n",
    "    plt.plot(x_cylinder, c_cylinder[i, :], color='green', label='cyl')\n",
    "    plt.plot(x_clean, c_clean[i, :], color='red', label='no')\n",
    "    plt.legend()\n",
    "    plt.xlabel(\"x [um]\")\n",
    "    plt.ylabel(\"c/c0 [unitless]\")\n",
    "    plt.title(\"Concentration profile at t={0} s\".format(t_sphere[i]))\n",
    "    plt.savefig(\"../tex/figs/profile%i\"%i)"
   ]
  },
  {
   "cell_type": "code",
   "execution_count": null,
   "id": "3afceffe",
   "metadata": {},
   "outputs": [],
   "source": []
  }
 ],
 "metadata": {
  "kernelspec": {
   "display_name": "Python 3 (ipykernel)",
   "language": "python",
   "name": "python3"
  },
  "language_info": {
   "codemirror_mode": {
    "name": "ipython",
    "version": 3
   },
   "file_extension": ".py",
   "mimetype": "text/x-python",
   "name": "python",
   "nbconvert_exporter": "python",
   "pygments_lexer": "ipython3",
   "version": "3.9.7"
  }
 },
 "nbformat": 4,
 "nbformat_minor": 5
}
