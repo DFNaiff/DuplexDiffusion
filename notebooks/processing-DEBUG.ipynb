{
 "cells": [
  {
   "cell_type": "code",
   "execution_count": 14,
   "id": "137576a6",
   "metadata": {},
   "outputs": [],
   "source": [
    "import numpy as np\n",
    "import matplotlib.pyplot as plt"
   ]
  },
  {
   "cell_type": "code",
   "execution_count": 15,
   "id": "863fd743",
   "metadata": {},
   "outputs": [],
   "source": [
    "%matplotlib inline"
   ]
  },
  {
   "cell_type": "code",
   "execution_count": 26,
   "id": "82a247dc",
   "metadata": {},
   "outputs": [],
   "source": [
    "D = 60.0; #um^2/s\n",
    "alpha = 1.4*1e-4; #um^2/s\n",
    "R = 5.0; #um\n",
    "K = 32.51/0.033; #unitless\n",
    "vol_fraction = 0.4; #unitless\n",
    "L = 100; #um\n",
    "cinit = 1.0; #mol/um^3\n",
    "\n",
    "nspace = 21; #Division in space\n",
    "nkernel = 10; #Number of kernel expansions\n",
    "timestep = 0.25; #s\n",
    "decay_limit = 0.1; #Limite of kernel decay\n",
    "maxwindow = 1000;\n",
    "\n",
    "dx = L/(nspace-1)"
   ]
  },
  {
   "cell_type": "code",
   "execution_count": 27,
   "id": "bee39def",
   "metadata": {},
   "outputs": [],
   "source": [
    "data_sphere = np.loadtxt(\"../data/result_large_convolution\")\n",
    "data_sphere_pid = np.loadtxt(\"../data/result_test\")"
   ]
  },
  {
   "cell_type": "code",
   "execution_count": 28,
   "id": "f8df2dd1",
   "metadata": {},
   "outputs": [],
   "source": [
    "def make_time_space(res):\n",
    "    t, c = res[:, 0], res[:, 1:]\n",
    "    x = np.linspace(0, L, res.shape[1]-1);\n",
    "    return t, x, c\n",
    "t_sphere, x_sphere, c_sphere = make_time_space(data_sphere);\n",
    "t_sphere_pid, x_sphere_pid, c_sphere_pid = make_time_space(data_sphere_pid);"
   ]
  },
  {
   "cell_type": "code",
   "execution_count": 29,
   "id": "bd511d9b",
   "metadata": {},
   "outputs": [
    {
     "data": {
      "text/plain": [
       "Text(0.5, 1.0, 'Flux at outlet')"
      ]
     },
     "execution_count": 29,
     "metadata": {},
     "output_type": "execute_result"
    }
   ],
   "source": [
    "%matplotlib qt \n",
    "plt.plot(t_sphere, D*c_sphere[:, -2]/dx, color='blue')\n",
    "plt.plot(t_sphere_pid, D*c_sphere_pid[:, -2]/dx, color='red')\n",
    "plt.ylabel(\"J/c0 [um/s]\")\n",
    "plt.xlabel(\"t [s]\")\n",
    "plt.title(\"Flux at outlet\")\n",
    "#plt.savefig(\"../tex/figs/flux\")"
   ]
  },
  {
   "cell_type": "code",
   "execution_count": null,
   "id": "3ad8fe47",
   "metadata": {},
   "outputs": [],
   "source": []
  },
  {
   "cell_type": "code",
   "execution_count": null,
   "id": "df31ebe0",
   "metadata": {},
   "outputs": [],
   "source": []
  },
  {
   "cell_type": "code",
   "execution_count": null,
   "id": "10b0fae0",
   "metadata": {},
   "outputs": [],
   "source": []
  }
 ],
 "metadata": {
  "kernelspec": {
   "display_name": "Python 3 (ipykernel)",
   "language": "python",
   "name": "python3"
  },
  "language_info": {
   "codemirror_mode": {
    "name": "ipython",
    "version": 3
   },
   "file_extension": ".py",
   "mimetype": "text/x-python",
   "name": "python",
   "nbconvert_exporter": "python",
   "pygments_lexer": "ipython3",
   "version": "3.9.7"
  }
 },
 "nbformat": 4,
 "nbformat_minor": 5
}
