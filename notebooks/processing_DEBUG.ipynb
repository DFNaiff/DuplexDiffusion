{
 "cells": [
  {
   "cell_type": "code",
   "execution_count": 25,
   "id": "137576a6",
   "metadata": {},
   "outputs": [],
   "source": [
    "import numpy as np\n",
    "import matplotlib.pyplot as plt"
   ]
  },
  {
   "cell_type": "raw",
   "id": "fc956f9c",
   "metadata": {},
   "source": [
    "struct Parameters{\n",
    "    double D = 6.0*1e-11*1e12; // um^2/s\n",
    "    double alpha = 1.4*1e-16*1e12; // um^2/s\n",
    "    double R = 1.0; // um\n",
    "    double K = 32.51/0.033; //unitless\n",
    "    double vol_fraction = 0.1; //unitless\n",
    "    double L = 100; // #um\n",
    "    double cinit = 1.0; // #mol/um^3\n",
    "    double Gamma(){\n",
    "        return vol_fraction/(4.0/3*M_PI*R*R); //1/um^3\n",
    "    }\n",
    "    double beta(){\n",
    "        return 8*M_PI*R*Gamma()*alpha*K;\n",
    "    }\n",
    "};\n",
    "\n",
    "struct SolParams{\n",
    "    int nspace = 21;\n",
    "    int nkernel = 10;\n",
    "    double timestep = 0.25;\n",
    "    double decay_limit = 0.1;\n",
    "    int maxwindow = 1000;\n",
    "};"
   ]
  },
  {
   "cell_type": "code",
   "execution_count": 26,
   "id": "82a247dc",
   "metadata": {},
   "outputs": [],
   "source": [
    "D = 60.0; #um^2/s\n",
    "alpha = 1.4*1e-4; #um^2/s\n",
    "R = 5.0; #um\n",
    "K = 32.51/0.033; #unitless\n",
    "vol_fraction = 0.4; #unitless\n",
    "L = 100; #um\n",
    "cinit = 1.0; #mol/um^3\n",
    "\n",
    "nspace = 21; #Division in space\n",
    "nkernel = 10; #Number of kernel expansions\n",
    "timestep = 0.25; #s\n",
    "decay_limit = 0.1; #Limite of kernel decay\n",
    "maxwindow = 1000;\n",
    "\n",
    "dx = L/(nspace-1)"
   ]
  },
  {
   "cell_type": "code",
   "execution_count": 30,
   "id": "bee39def",
   "metadata": {},
   "outputs": [],
   "source": [
    "res = np.loadtxt(\"../data/result_toy\")\n",
    "res_clean = np.loadtxt(\"../data/result_toy_clean\")\n",
    "res_detailed = np.loadtxt(\"../data/result_toy_detailed\")\n",
    "res_clean_detailed = np.loadtxt(\"../data/result_toy_clean_detailed\")"
   ]
  },
  {
   "cell_type": "code",
   "execution_count": 31,
   "id": "f8df2dd1",
   "metadata": {},
   "outputs": [],
   "source": [
    "def make_time_space(res, timestep):\n",
    "    t = np.arange(res.shape[0])*timestep + timestep;\n",
    "    x = np.linspace(0, L, res.shape[1]);\n",
    "    return t, x\n",
    "t, x = make_time_space(res, timestep);\n",
    "t_clean, x_clean = make_time_space(res_clean, timestep);\n",
    "t_detailed, c_detailed = make_time_space(res_detailed, timestep/5);\n",
    "t_clean_detailed, c_clean_detailed = make_time_space(res_clean_detailed, timestep/5);"
   ]
  },
  {
   "cell_type": "code",
   "execution_count": 32,
   "id": "bd511d9b",
   "metadata": {},
   "outputs": [
    {
     "data": {
      "text/plain": [
       "Text(0.5, 1.0, 'Flux at outlet')"
      ]
     },
     "execution_count": 32,
     "metadata": {},
     "output_type": "execute_result"
    },
    {
     "data": {
      "image/png": "[encoded data removed]",
      "text/plain": [
       "<Figure size 432x288 with 1 Axes>"
      ]
     },
     "metadata": {
      "needs_background": "light"
     },
     "output_type": "display_data"
    }
   ],
   "source": [
    "%matplotlib inline\n",
    "iscale = 10000\n",
    "plt.plot(t[:iscale], D*res[:iscale, -2]/dx, color='blue')\n",
    "plt.plot(t_detailed[:5*iscale], D*res_detailed[:5*iscale, -2]/dx, color='red')\n",
    "plt.ylabel(\"J/c0 [um/s]\")\n",
    "plt.xlabel(\"t [s]\")\n",
    "plt.title(\"Flux at outlet\")\n",
    "#plt.savefig(\"../tex/figs/flux\")"
   ]
  },
  {
   "cell_type": "code",
   "execution_count": 24,
   "id": "c1ebdeb1",
   "metadata": {},
   "outputs": [
    {
     "data": {
      "text/plain": [
       "Text(0.5, 1.0, 'Flux at outlet')"
      ]
     },
     "execution_count": 24,
     "metadata": {},
     "output_type": "execute_result"
    },
    {
     "data": {
      "image/png": "[encoded data removed]",
      "text/plain": [
       "<Figure size 432x288 with 1 Axes>"
      ]
     },
     "metadata": {
      "needs_background": "light"
     },
     "output_type": "display_data"
    }
   ],
   "source": [
    "%matplotlib inline\n",
    "iscale = 10000\n",
    "plt.plot(t_clean[:iscale], D*res_clean[:iscale, -2]/dx, color='blue')\n",
    "plt.plot(t_clean_detailed[:5*iscale], D*res_clean_detailed[:5*iscale, -2]/dx, color='red')\n",
    "plt.ylabel(\"J/c0 [um/s]\")\n",
    "plt.xlabel(\"t [s]\")\n",
    "plt.title(\"Flux at outlet\")\n",
    "#plt.savefig(\"../tex/figs/flux\")"
   ]
  },
  {
   "cell_type": "code",
   "execution_count": null,
   "id": "2c621770",
   "metadata": {},
   "outputs": [],
   "source": []
  },
  {
   "cell_type": "code",
   "execution_count": null,
   "id": "98696d5c",
   "metadata": {},
   "outputs": [],
   "source": []
  }
 ],
 "metadata": {
  "kernelspec": {
   "display_name": "Python 3 (ipykernel)",
   "language": "python",
   "name": "python3"
  },
  "language_info": {
   "codemirror_mode": {
    "name": "ipython",
    "version": 3
   },
   "file_extension": ".py",
   "mimetype": "text/x-python",
   "name": "python",
   "nbconvert_exporter": "python",
   "pygments_lexer": "ipython3",
   "version": "3.9.7"
  }
 },
 "nbformat": 4,
 "nbformat_minor": 5
}
