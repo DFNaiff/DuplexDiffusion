{
 "cells": [
  {
   "cell_type": "code",
   "execution_count": 72,
   "id": "137576a6",
   "metadata": {},
   "outputs": [],
   "source": [
    "import numpy as np\n",
    "import matplotlib.pyplot as plt"
   ]
  },
  {
   "cell_type": "code",
   "execution_count": 73,
   "id": "82a247dc",
   "metadata": {},
   "outputs": [],
   "source": [
    "D = 60.0; #um^2/s\n",
    "alpha = 1.4*1e-4; #um^2/s\n",
    "R = 5.0; #um\n",
    "K = 32.51/0.033; #unitless\n",
    "vol_fraction = 0.4; #unitless\n",
    "L = 100; #um\n",
    "cinit = 1.0; #mol/um^3\n",
    "\n",
    "nspace = 21; #Division in space\n",
    "nkernel = 10; #Number of kernel expansions\n",
    "timestep = 0.25; #s\n",
    "decay_limit = 0.1; #Limite of kernel decay\n",
    "maxwindow = 1000;\n",
    "\n",
    "dx = L/(nspace-1)"
   ]
  },
  {
   "cell_type": "code",
   "execution_count": 95,
   "id": "bee39def",
   "metadata": {},
   "outputs": [],
   "source": [
    "data = np.loadtxt(\"../data/result_test\")"
   ]
  },
  {
   "cell_type": "code",
   "execution_count": 96,
   "id": "5fd4cba8",
   "metadata": {},
   "outputs": [
    {
     "data": {
      "text/plain": [
       "(100000, 22)"
      ]
     },
     "execution_count": 96,
     "metadata": {},
     "output_type": "execute_result"
    }
   ],
   "source": [
    "data.shape"
   ]
  },
  {
   "cell_type": "code",
   "execution_count": 97,
   "id": "f8df2dd1",
   "metadata": {},
   "outputs": [],
   "source": [
    "def make_time_space(res, timestep):\n",
    "    t, c = res[:, 0], res[:, 1:]\n",
    "    x = np.linspace(0, L, res.shape[1]-1);\n",
    "    return t, x, c\n",
    "t, x, c = make_time_space(data, timestep);"
   ]
  },
  {
   "cell_type": "code",
   "execution_count": 98,
   "id": "bd511d9b",
   "metadata": {},
   "outputs": [],
   "source": [
    "%matplotlib qt\n",
    "iscale = 10000\n",
    "plt.plot(t[:iscale], D*c[:iscale, -2]/dx, color='blue')\n",
    "plt.ylabel(\"J/c0 [um/s]\")\n",
    "plt.xlabel(\"t [s]\")\n",
    "plt.title(\"Flux at outlet\")\n",
    "plt.savefig(\"../tex/figs/flux\")"
   ]
  },
  {
   "cell_type": "code",
   "execution_count": 94,
   "id": "2c621770",
   "metadata": {},
   "outputs": [
    {
     "data": {
      "text/plain": [
       "3.3443091796515656"
      ]
     },
     "execution_count": 94,
     "metadata": {},
     "output_type": "execute_result"
    }
   ],
   "source": [
    "#np.log(16)/3*l**2/(np.pi**2*ti)\n",
    "ti = 280\n",
    "Di = np.log(16)/3*L**2/(np.pi**2*ti)\n",
    "Di"
   ]
  },
  {
   "cell_type": "code",
   "execution_count": null,
   "id": "0bd6fce6",
   "metadata": {},
   "outputs": [],
   "source": []
  }
 ],
 "metadata": {
  "kernelspec": {
   "display_name": "Python 3 (ipykernel)",
   "language": "python",
   "name": "python3"
  },
  "language_info": {
   "codemirror_mode": {
    "name": "ipython",
    "version": 3
   },
   "file_extension": ".py",
   "mimetype": "text/x-python",
   "name": "python",
   "nbconvert_exporter": "python",
   "pygments_lexer": "ipython3",
   "version": "3.9.7"
  }
 },
 "nbformat": 4,
 "nbformat_minor": 5
}
