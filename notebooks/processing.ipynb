{
 "cells": [
  {
   "cell_type": "code",
   "execution_count": 68,
   "id": "137576a6",
   "metadata": {},
   "outputs": [],
   "source": [
    "import numpy as np\n",
    "import matplotlib.pyplot as plt"
   ]
  },
  {
   "cell_type": "code",
   "execution_count": 69,
   "id": "fc1f869a",
   "metadata": {},
   "outputs": [],
   "source": [
    "res = np.loadtxt(\"../data/result\")\n",
    "res_clean = np.loadtxt(\"../data/result_clean\")"
   ]
  },
  {
   "cell_type": "code",
   "execution_count": 70,
   "id": "ee2619d7",
   "metadata": {},
   "outputs": [],
   "source": [
    "dx = 100/20;"
   ]
  },
  {
   "cell_type": "code",
   "execution_count": 71,
   "id": "1ce7d61f",
   "metadata": {},
   "outputs": [],
   "source": [
    "%matplotlib qt\n",
    "plt.plot(res[:, -15], color='blue')\n",
    "plt.plot(res_clean[:, -15], color='red')\n",
    "plt.semilogx();"
   ]
  },
  {
   "cell_type": "code",
   "execution_count": 72,
   "id": "a0a143d7",
   "metadata": {},
   "outputs": [
    {
     "data": {
      "text/plain": [
       "[<matplotlib.lines.Line2D at 0x7f7150bea250>]"
      ]
     },
     "execution_count": 72,
     "metadata": {},
     "output_type": "execute_result"
    }
   ],
   "source": [
    "plt.plot(res[1000, :], color='blue')\n",
    "plt.plot(res_clean[1000, :], color='red')"
   ]
  },
  {
   "cell_type": "code",
   "execution_count": null,
   "id": "f1603511",
   "metadata": {},
   "outputs": [],
   "source": []
  }
 ],
 "metadata": {
  "kernelspec": {
   "display_name": "Python 3 (ipykernel)",
   "language": "python",
   "name": "python3"
  },
  "language_info": {
   "codemirror_mode": {
    "name": "ipython",
    "version": 3
   },
   "file_extension": ".py",
   "mimetype": "text/x-python",
   "name": "python",
   "nbconvert_exporter": "python",
   "pygments_lexer": "ipython3",
   "version": "3.9.7"
  }
 },
 "nbformat": 4,
 "nbformat_minor": 5
}
